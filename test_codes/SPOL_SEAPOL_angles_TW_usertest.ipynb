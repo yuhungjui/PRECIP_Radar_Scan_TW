{
 "cells": [
  {
   "cell_type": "markdown",
   "id": "55073e0a",
   "metadata": {},
   "source": [
    "# Using Python to Access CWB Radar Image & Plotting Azimuths w.r.t. Radar Location.\n",
    "\n",
    "**This notebook pulls the CWB latest radar image from https://www.cwb.gov.tw/V8/C/W/OBS_Radar.html, and plot azimuths from the planned S-PolKa and SEAPOL radar locations.**"
   ]
  },
  {
   "cell_type": "code",
   "execution_count": null,
   "id": "20328312",
   "metadata": {},
   "outputs": [],
   "source": [
    "#%reset\n",
    "\n",
    "import datetime\n",
    "import pytz\n",
    "import math\n",
    "import numpy as np\n",
    "import matplotlib.pyplot as plt\n",
    "import matplotlib.ticker as plticker\n",
    "import cartopy\n",
    "import cartopy.crs as ccrs\n",
    "import cartopy.io.shapereader as shpreader\n",
    "import cartopy.geodesic as cgds\n",
    "from cartopy.mpl.gridliner import LONGITUDE_FORMATTER, LATITUDE_FORMATTER\n",
    "import shapely\n",
    "from pyproj import Geod\n",
    "# from PIL import Image"
   ]
  },
  {
   "cell_type": "markdown",
   "id": "7092bb0f",
   "metadata": {},
   "source": [
    "## Functions for time retrieving:"
   ]
  },
  {
   "cell_type": "code",
   "execution_count": null,
   "id": "1a904cc3",
   "metadata": {},
   "outputs": [],
   "source": [
    "def timeround10(dt):\n",
    "    # a, b = divmod(round(dt.minute, -1), 60)\n",
    "    a, b = divmod(math.floor(dt.minute * 0.1)/0.1, 60)\n",
    "    # return '%i:%02i' % ((dt.hour + a) % 24, b)\n",
    "    print(b)\n",
    "    return datetime.datetime(dt.year, dt.month, dt.day, int((dt.hour + a) % 24), int(b), 0, 0) \n",
    "\n",
    "def timeround10before(tm):\n",
    "    tm = tm - datetime.timedelta(minutes=tm.minute % 10, seconds=tm.second, microseconds=tm.microsecond)\n",
    "    return tm"
   ]
  },
  {
   "cell_type": "markdown",
   "id": "e0f893b9",
   "metadata": {},
   "source": [
    "## Retrieve the latest radar image form CWB and generate one test plot:\n",
    "**Choose between two different CWB map types ('L'arge area / 'C'oncentrate to Taiwan) \\\n",
    "and w/wo topography (wo:1 / w:2).**"
   ]
  },
  {
   "cell_type": "code",
   "execution_count": null,
   "id": "2545dc8c",
   "metadata": {},
   "outputs": [],
   "source": [
    "map_type = 'C'\n",
    "map_topo = '1'\n",
    "\n",
    "def map_selection(map_type, map_topo):\n",
    "    if ( map_type == 'C' ):\n",
    "        radar_img_url_name = 'https://www.cwb.gov.tw/Data/radar/CV' + map_topo + '_TW_3600_'\n",
    "    elif ( map_type == 'L' ):\n",
    "        radar_img_url_name = 'https://www.cwb.gov.tw/Data/radar/CV' + map_topo + '_3600_'\n",
    "    return radar_img_url_name\n",
    "        \n",
    "radar_img_url_name = map_selection(map_type, map_topo)\n",
    "    \n",
    "try:\n",
    "    radar_img_time = timeround10before(datetime.datetime.now(pytz.timezone('Asia/Taipei'))).strftime('%Y%m%d%H%M')\n",
    "    radar_img_url = radar_img_url_name + radar_img_time + '.png'\n",
    "    radar_img = plt.imread(radar_img_url)\n",
    "    print(radar_img_url)\n",
    "except:\n",
    "    print('Current time unavailable. Try 10-min before:')\n",
    "    radar_time = datetime.datetime.now(pytz.timezone('Asia/Taipei')) - datetime.timedelta(minutes=10)\n",
    "    radar_img_time = timeround10before(radar_time).strftime('%Y%m%d%H%M')\n",
    "    radar_img_url = radar_img_url_name + radar_img_time + '.png'\n",
    "    radar_img = plt.imread(radar_img_url)\n",
    "    print(radar_img_url)\n",
    "\n",
    "# print(radar_image)\n",
    "\n",
    "plt.figure(figsize=(4, 4), dpi=150)\n",
    "plt.imshow(radar_img)\n",
    "plt.show()"
   ]
  },
  {
   "cell_type": "markdown",
   "id": "74a100ee",
   "metadata": {},
   "source": [
    "## Function generating maps and azimuth rings:"
   ]
  },
  {
   "cell_type": "code",
   "execution_count": null,
   "id": "0183622e",
   "metadata": {},
   "outputs": [],
   "source": [
    "def new_map(fig, sitename, lon, lat, azimuths):\n",
    "    \n",
    "    # Create projection centered as the CWB radar image:\n",
    "    # proj = ccrs.LambertConformal(central_longitude=121.0, central_latitude=23.5)\n",
    "    proj = ccrs.PlateCarree()\n",
    "\n",
    "    # New axes with the specified projection:\n",
    "    ax = fig.add_subplot(1, 1, 1, projection=proj)\n",
    "\n",
    "    # Add coastlines:\n",
    "    ax.coastlines('10m', 'black', linewidth=2, zorder=10)\n",
    "    \n",
    "    # Set extent the same as CWB radar image:\n",
    "    if ( map_type == 'C' ):\n",
    "        ax.set_extent([117.75, 124.25, 20.25, 26.75])\n",
    "    elif ( map_type == 'L' ):\n",
    "        ax.set_extent([114.75, 126.75, 17.5, 29.5])\n",
    "\n",
    "    # Add grid lines & labels:\n",
    "    gl = ax.gridlines(crs=ccrs.PlateCarree(), draw_labels=True,\n",
    "                      linewidth=1, color='gray', alpha=0.5, linestyle='--')\n",
    "    gl.top_labels = False\n",
    "    gl.left_labels = False\n",
    "    gl.xlines = False\n",
    "    gl.ylines = False\n",
    "    if ( map_type == 'L' ):\n",
    "        gl.xlocator = plticker.FixedLocator(np.arange(115, 126.5, 1))\n",
    "    gl.xformatter = LONGITUDE_FORMATTER\n",
    "    gl.yformatter = LATITUDE_FORMATTER\n",
    "    gl.xlabel_style = {'size': 14, 'weight': 'bold'}\n",
    "    gl.ylabel_style = {'size': 14, 'weight': 'bold'}\n",
    "    \n",
    "    # Add star at the location of the radar:\n",
    "    # lat_SPOL_HC = 24.820\n",
    "    # lon_SPOL_HC = 120.908\n",
    "    ax.scatter(lon, lat, marker='*', s=100, color='k', transform=ccrs.PlateCarree())\n",
    "\n",
    "    # Add a ring at ~50 km from tha radar:\n",
    "    circle_points = cgds.Geodesic().circle(lon=lon, lat=lat, radius=50000, n_samples=100, endpoint=False)\n",
    "    geom = shapely.geometry.Polygon(circle_points)\n",
    "    ax.add_geometries((geom,), crs=ccrs.PlateCarree(), facecolor='none', edgecolor='red', linewidth=2)\n",
    "\n",
    "    # Add a ring at ~100 km from tha radar:\n",
    "    #circle_points = cgds.Geodesic().circle(lon=lon, lat=lat, radius=100000, n_samples=100, endpoint=False)\n",
    "    #geom = shapely.geometry.Polygon(circle_points)\n",
    "    #ax.add_geometries((geom,), crs=ccrs.PlateCarree(), facecolor='none', edgecolor='red', linewidth=2)\n",
    "    \n",
    "    # assign termination of range rings/azimuths based on approximate radar ranges\n",
    "    if sitename == 'SPOL':\n",
    "        endrad = 100000\n",
    "    elif sitename == 'SEAPOL':\n",
    "        endrad = 97000\n",
    "    else:\n",
    "        endrad = 200000\n",
    "    \n",
    "    # Add a ring at maximum range from the radar:\n",
    "    circle_points = cgds.Geodesic().circle(lon=lon, lat=lat, radius=endrad, n_samples=100, endpoint=False)\n",
    "    geom = shapely.geometry.Polygon(circle_points)\n",
    "    ax.add_geometries((geom,), crs=ccrs.PlateCarree(), facecolor='none', edgecolor='red', linewidth=2)\n",
    "    \n",
    "    # Line points at azimuths:\n",
    "    geod = Geod(ellps='WGS84')\n",
    "    print(azimuths)\n",
    "    for az in azimuths:\n",
    "        lon2, lat2, _ = geod.fwd(lon, lat, az, endrad)\n",
    "        ax.plot([lon, lon2],[lat, lat2], '--k', transform=ccrs.PlateCarree(), linewidth=1)\n",
    "        ax.text(lon2, lat2, az, transform=ccrs.PlateCarree())\n",
    "    \n",
    "    return ax"
   ]
  },
  {
   "cell_type": "markdown",
   "id": "9466796c",
   "metadata": {},
   "source": [
    "## Generate the scan maps:"
   ]
  },
  {
   "cell_type": "code",
   "execution_count": null,
   "id": "15ee3603",
   "metadata": {},
   "outputs": [],
   "source": [
    "# set image extent based on CWB map size set above\n",
    "\n",
    "if ( map_type == 'C' ):\n",
    "    img_extent = (118, 124, 20.5, 26.5)\n",
    "elif( map_type == 'L' ):\n",
    "    img_extent = (115, 126.5, 17.75, 29.25)"
   ]
  },
  {
   "cell_type": "code",
   "execution_count": null,
   "id": "e7dd4ffb",
   "metadata": {},
   "outputs": [],
   "source": [
    "# SPOL\n",
    "\n",
    "sitename_spol = 'SPOL'\n",
    "spol_lat = 24.819\n",
    "spol_lon = 120.908\n",
    "az = np.arange(240, 306, 5)\n",
    "\n",
    "fig = plt.figure(figsize=(12, 12), dpi=150)\n",
    "# az = [250, 262, 274, 286, 298, 310, 322, 334, 346, 358, 10, 22, 34, 46, 58, 70]\n",
    "ax = new_map(fig, sitename_spol, spol_lon, spol_lat, az)\n",
    "plt.imshow(radar_img, extent=img_extent, zorder=0, transform=ccrs.PlateCarree())\n",
    "# plt.show()\n",
    "#plt.savefig('./PRECIP_2022_CWB+SPOL_with200kmring_and_azimuths.png', bbox_inches='tight')"
   ]
  },
  {
   "cell_type": "code",
   "execution_count": null,
   "id": "881e44be",
   "metadata": {},
   "outputs": [],
   "source": [
    "# SEAPOL\n",
    "\n",
    "sitename_sea = 'SEAPOL'\n",
    "seapol_lat = 24.4572\n",
    "seapol_lon = 122.9439\n",
    "az = np.arange(240, 306, 5)\n",
    "\n",
    "fig = plt.figure(figsize=(12, 12), dpi=150)\n",
    "# az = [250, 262, 274, 286, 298, 310, 322, 334, 346, 358, 10, 22, 34, 46, 58, 70]\n",
    "ax = new_map(fig, sitename_sea, seapol_lon, seapol_lat, az)\n",
    "plt.imshow(radar_img, extent=img_extent, zorder=0, transform=ccrs.PlateCarree())"
   ]
  },
  {
   "cell_type": "code",
   "execution_count": null,
   "id": "cb6ce67b",
   "metadata": {},
   "outputs": [],
   "source": []
  }
 ],
 "metadata": {
  "kernelspec": {
   "display_name": "Python 3 (ipykernel)",
   "language": "python",
   "name": "python3"
  },
  "language_info": {
   "codemirror_mode": {
    "name": "ipython",
    "version": 3
   },
   "file_extension": ".py",
   "mimetype": "text/x-python",
   "name": "python",
   "nbconvert_exporter": "python",
   "pygments_lexer": "ipython3",
   "version": "3.8.13"
  }
 },
 "nbformat": 4,
 "nbformat_minor": 5
}
